{
  "nbformat": 4,
  "nbformat_minor": 0,
  "metadata": {
    "colab": {
      "provenance": [],
      "authorship_tag": "ABX9TyPdG37/ESYTAtlt8rUBlejL",
      "include_colab_link": true
    },
    "kernelspec": {
      "name": "python3",
      "display_name": "Python 3"
    },
    "language_info": {
      "name": "python"
    }
  },
  "cells": [
    {
      "cell_type": "markdown",
      "metadata": {
        "id": "view-in-github",
        "colab_type": "text"
      },
      "source": [
        "<a href=\"https://colab.research.google.com/github/engenheirorodrigoviannini/optical_character_recognition/blob/main/similarity_strings_20230620.ipynb\" target=\"_parent\"><img src=\"https://colab.research.google.com/assets/colab-badge.svg\" alt=\"Open In Colab\"/></a>"
      ]
    },
    {
      "cell_type": "markdown",
      "source": [
        "\n",
        "**PRODUCTION ENGINEER | DATA SCIENTIST**\n",
        "\n",
        "\n",
        "Rodrigo Viannini\n",
        "\n",
        "\n",
        "Date: 2023-06-20\n",
        "\n",
        "\n",
        "https://www.linkedin.com/in/rodrigo-viannini-datascientist/"
      ],
      "metadata": {
        "id": "uk2eMmY_xUSG"
      }
    },
    {
      "cell_type": "markdown",
      "source": [
        "**SETTINGS**"
      ],
      "metadata": {
        "id": "N4oLqbHdtg_3"
      }
    },
    {
      "cell_type": "code",
      "source": [
        "# Imports\n",
        "import pandas as pd"
      ],
      "metadata": {
        "id": "t4egO3SZttI8"
      },
      "execution_count": 19,
      "outputs": []
    },
    {
      "cell_type": "markdown",
      "source": [
        "**WORDS**"
      ],
      "metadata": {
        "id": "T92onG6y17Sk"
      }
    },
    {
      "cell_type": "code",
      "source": [
        "# List of words\n",
        "list_strings_one = ['escola', 'Rio de Janeiro', 'Brasil', 'Flamengo', 'São Paulo', 'hospital', 'objeção', 'determine', 'jornal', 'alimento']\n",
        "\n",
        "list_strings_two = ['escolaridade','rio_janeiro', 'brasileiro', 'flamenguista', 'são-paulino', 'hospitalizado', 'objetividade', 'determinação', 'jornalismo', 'alimentação']\n",
        ""
      ],
      "metadata": {
        "id": "pIKfzKLz1etQ"
      },
      "execution_count": 25,
      "outputs": []
    },
    {
      "cell_type": "code",
      "source": [
        "# Create a DataFrame with two columns 'WORD_ONE' and 'WORD_TWO' using the provided lists\n",
        "df_similarity_analysis = pd.DataFrame({'WORD_ONE': list_strings_one, 'WORD_TWO': list_strings_two})\n",
        "\n",
        "# Convert all values in the 'WORD_ONE' column to lowercase\n",
        "df_similarity_analysis['WORD_ONE'] = df_similarity_analysis['WORD_ONE'].str.lower()\n",
        "\n",
        "# Convert all values in the 'WORD_TWO' column to lowercase\n",
        "df_similarity_analysis['WORD_TWO'] = df_similarity_analysis['WORD_TWO'].str.lower()\n"
      ],
      "metadata": {
        "id": "iMNjfk7R1pxs"
      },
      "execution_count": 26,
      "outputs": []
    },
    {
      "cell_type": "code",
      "source": [
        "df_similarity_analysis"
      ],
      "metadata": {
        "colab": {
          "base_uri": "https://localhost:8080/",
          "height": 363
        },
        "id": "LsXe3mEZ1vwi",
        "outputId": "c8acab9e-11de-4213-c196-c021bc97421b"
      },
      "execution_count": 27,
      "outputs": [
        {
          "output_type": "execute_result",
          "data": {
            "text/plain": [
              "         WORD_ONE       WORD_TWO\n",
              "0          escola   escolaridade\n",
              "1  rio de janeiro    rio_janeiro\n",
              "2          brasil     brasileiro\n",
              "3        flamengo   flamenguista\n",
              "4       são paulo    são-paulino\n",
              "5        hospital  hospitalizado\n",
              "6         objeção   objetividade\n",
              "7       determine   determinação\n",
              "8          jornal     jornalismo\n",
              "9        alimento    alimentação"
            ],
            "text/html": [
              "\n",
              "  <div id=\"df-f6920838-a146-43ee-b879-03fbabdb2020\">\n",
              "    <div class=\"colab-df-container\">\n",
              "      <div>\n",
              "<style scoped>\n",
              "    .dataframe tbody tr th:only-of-type {\n",
              "        vertical-align: middle;\n",
              "    }\n",
              "\n",
              "    .dataframe tbody tr th {\n",
              "        vertical-align: top;\n",
              "    }\n",
              "\n",
              "    .dataframe thead th {\n",
              "        text-align: right;\n",
              "    }\n",
              "</style>\n",
              "<table border=\"1\" class=\"dataframe\">\n",
              "  <thead>\n",
              "    <tr style=\"text-align: right;\">\n",
              "      <th></th>\n",
              "      <th>WORD_ONE</th>\n",
              "      <th>WORD_TWO</th>\n",
              "    </tr>\n",
              "  </thead>\n",
              "  <tbody>\n",
              "    <tr>\n",
              "      <th>0</th>\n",
              "      <td>escola</td>\n",
              "      <td>escolaridade</td>\n",
              "    </tr>\n",
              "    <tr>\n",
              "      <th>1</th>\n",
              "      <td>rio de janeiro</td>\n",
              "      <td>rio_janeiro</td>\n",
              "    </tr>\n",
              "    <tr>\n",
              "      <th>2</th>\n",
              "      <td>brasil</td>\n",
              "      <td>brasileiro</td>\n",
              "    </tr>\n",
              "    <tr>\n",
              "      <th>3</th>\n",
              "      <td>flamengo</td>\n",
              "      <td>flamenguista</td>\n",
              "    </tr>\n",
              "    <tr>\n",
              "      <th>4</th>\n",
              "      <td>são paulo</td>\n",
              "      <td>são-paulino</td>\n",
              "    </tr>\n",
              "    <tr>\n",
              "      <th>5</th>\n",
              "      <td>hospital</td>\n",
              "      <td>hospitalizado</td>\n",
              "    </tr>\n",
              "    <tr>\n",
              "      <th>6</th>\n",
              "      <td>objeção</td>\n",
              "      <td>objetividade</td>\n",
              "    </tr>\n",
              "    <tr>\n",
              "      <th>7</th>\n",
              "      <td>determine</td>\n",
              "      <td>determinação</td>\n",
              "    </tr>\n",
              "    <tr>\n",
              "      <th>8</th>\n",
              "      <td>jornal</td>\n",
              "      <td>jornalismo</td>\n",
              "    </tr>\n",
              "    <tr>\n",
              "      <th>9</th>\n",
              "      <td>alimento</td>\n",
              "      <td>alimentação</td>\n",
              "    </tr>\n",
              "  </tbody>\n",
              "</table>\n",
              "</div>\n",
              "      <button class=\"colab-df-convert\" onclick=\"convertToInteractive('df-f6920838-a146-43ee-b879-03fbabdb2020')\"\n",
              "              title=\"Convert this dataframe to an interactive table.\"\n",
              "              style=\"display:none;\">\n",
              "        \n",
              "  <svg xmlns=\"http://www.w3.org/2000/svg\" height=\"24px\"viewBox=\"0 0 24 24\"\n",
              "       width=\"24px\">\n",
              "    <path d=\"M0 0h24v24H0V0z\" fill=\"none\"/>\n",
              "    <path d=\"M18.56 5.44l.94 2.06.94-2.06 2.06-.94-2.06-.94-.94-2.06-.94 2.06-2.06.94zm-11 1L8.5 8.5l.94-2.06 2.06-.94-2.06-.94L8.5 2.5l-.94 2.06-2.06.94zm10 10l.94 2.06.94-2.06 2.06-.94-2.06-.94-.94-2.06-.94 2.06-2.06.94z\"/><path d=\"M17.41 7.96l-1.37-1.37c-.4-.4-.92-.59-1.43-.59-.52 0-1.04.2-1.43.59L10.3 9.45l-7.72 7.72c-.78.78-.78 2.05 0 2.83L4 21.41c.39.39.9.59 1.41.59.51 0 1.02-.2 1.41-.59l7.78-7.78 2.81-2.81c.8-.78.8-2.07 0-2.86zM5.41 20L4 18.59l7.72-7.72 1.47 1.35L5.41 20z\"/>\n",
              "  </svg>\n",
              "      </button>\n",
              "      \n",
              "  <style>\n",
              "    .colab-df-container {\n",
              "      display:flex;\n",
              "      flex-wrap:wrap;\n",
              "      gap: 12px;\n",
              "    }\n",
              "\n",
              "    .colab-df-convert {\n",
              "      background-color: #E8F0FE;\n",
              "      border: none;\n",
              "      border-radius: 50%;\n",
              "      cursor: pointer;\n",
              "      display: none;\n",
              "      fill: #1967D2;\n",
              "      height: 32px;\n",
              "      padding: 0 0 0 0;\n",
              "      width: 32px;\n",
              "    }\n",
              "\n",
              "    .colab-df-convert:hover {\n",
              "      background-color: #E2EBFA;\n",
              "      box-shadow: 0px 1px 2px rgba(60, 64, 67, 0.3), 0px 1px 3px 1px rgba(60, 64, 67, 0.15);\n",
              "      fill: #174EA6;\n",
              "    }\n",
              "\n",
              "    [theme=dark] .colab-df-convert {\n",
              "      background-color: #3B4455;\n",
              "      fill: #D2E3FC;\n",
              "    }\n",
              "\n",
              "    [theme=dark] .colab-df-convert:hover {\n",
              "      background-color: #434B5C;\n",
              "      box-shadow: 0px 1px 3px 1px rgba(0, 0, 0, 0.15);\n",
              "      filter: drop-shadow(0px 1px 2px rgba(0, 0, 0, 0.3));\n",
              "      fill: #FFFFFF;\n",
              "    }\n",
              "  </style>\n",
              "\n",
              "      <script>\n",
              "        const buttonEl =\n",
              "          document.querySelector('#df-f6920838-a146-43ee-b879-03fbabdb2020 button.colab-df-convert');\n",
              "        buttonEl.style.display =\n",
              "          google.colab.kernel.accessAllowed ? 'block' : 'none';\n",
              "\n",
              "        async function convertToInteractive(key) {\n",
              "          const element = document.querySelector('#df-f6920838-a146-43ee-b879-03fbabdb2020');\n",
              "          const dataTable =\n",
              "            await google.colab.kernel.invokeFunction('convertToInteractive',\n",
              "                                                     [key], {});\n",
              "          if (!dataTable) return;\n",
              "\n",
              "          const docLinkHtml = 'Like what you see? Visit the ' +\n",
              "            '<a target=\"_blank\" href=https://colab.research.google.com/notebooks/data_table.ipynb>data table notebook</a>'\n",
              "            + ' to learn more about interactive tables.';\n",
              "          element.innerHTML = '';\n",
              "          dataTable['output_type'] = 'display_data';\n",
              "          await google.colab.output.renderOutput(dataTable, element);\n",
              "          const docLink = document.createElement('div');\n",
              "          docLink.innerHTML = docLinkHtml;\n",
              "          element.appendChild(docLink);\n",
              "        }\n",
              "      </script>\n",
              "    </div>\n",
              "  </div>\n",
              "  "
            ]
          },
          "metadata": {},
          "execution_count": 27
        }
      ]
    },
    {
      "cell_type": "markdown",
      "source": [
        "**STRINGS FREQUENCY**"
      ],
      "metadata": {
        "id": "Tze2i_Gs2VHw"
      }
    },
    {
      "cell_type": "code",
      "source": [
        "for idx, x in enumerate(df_similarity_analysis['WORD_ONE']):\n",
        "    # Print the length of the string 'x'\n",
        "    print(len(x))\n",
        "\n",
        "    # Print the index and the value of 'x'\n",
        "    print(idx, x)\n",
        "\n",
        "    # Count the occurrences of each character in 'x' and store the results in 'res'\n",
        "    res = {i: x.count(i) for i in set(x)}\n",
        "\n",
        "    # Print the dictionary of character counts in 'x'\n",
        "    print(str(res))\n",
        "\n",
        "    # Print a blank line to separate the outputs for each iteration\n",
        "    print()"
      ],
      "metadata": {
        "colab": {
          "base_uri": "https://localhost:8080/"
        },
        "id": "EHwoBSXS1yDq",
        "outputId": "ad4cbd4c-f9f4-46bb-b456-4ac5ad0a8ba6"
      },
      "execution_count": 28,
      "outputs": [
        {
          "output_type": "stream",
          "name": "stdout",
          "text": [
            "6\n",
            "0 escola\n",
            "{'o': 1, 'l': 1, 'e': 1, 'a': 1, 'c': 1, 's': 1}\n",
            "\n",
            "14\n",
            "1 rio de janeiro\n",
            "{'o': 2, 'r': 2, 'j': 1, ' ': 2, 'e': 2, 'd': 1, 'i': 2, 'n': 1, 'a': 1}\n",
            "\n",
            "6\n",
            "2 brasil\n",
            "{'r': 1, 'l': 1, 'a': 1, 'i': 1, 'b': 1, 's': 1}\n",
            "\n",
            "8\n",
            "3 flamengo\n",
            "{'o': 1, 'l': 1, 'e': 1, 'g': 1, 'm': 1, 'n': 1, 'f': 1, 'a': 1}\n",
            "\n",
            "9\n",
            "4 são paulo\n",
            "{'o': 2, 'p': 1, 'l': 1, ' ': 1, 'a': 1, 'ã': 1, 'u': 1, 's': 1}\n",
            "\n",
            "8\n",
            "5 hospital\n",
            "{'o': 1, 'p': 1, 'l': 1, 'h': 1, 't': 1, 'a': 1, 'i': 1, 's': 1}\n",
            "\n",
            "7\n",
            "6 objeção\n",
            "{'o': 2, 'j': 1, 'e': 1, 'ç': 1, 'ã': 1, 'b': 1}\n",
            "\n",
            "9\n",
            "7 determine\n",
            "{'r': 1, 't': 1, 'e': 3, 'd': 1, 'i': 1, 'm': 1, 'n': 1}\n",
            "\n",
            "6\n",
            "8 jornal\n",
            "{'o': 1, 'r': 1, 'l': 1, 'j': 1, 'n': 1, 'a': 1}\n",
            "\n",
            "8\n",
            "9 alimento\n",
            "{'o': 1, 'l': 1, 't': 1, 'e': 1, 'i': 1, 'm': 1, 'n': 1, 'a': 1}\n",
            "\n"
          ]
        }
      ]
    }
  ]
}